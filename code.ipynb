{
 "cells": [
  {
   "cell_type": "code",
   "execution_count": 1,
   "metadata": {},
   "outputs": [],
   "source": [
    "# !pip install tensorflow opencv-python mediapipe sklearn matplotlib"
   ]
  },
  {
   "cell_type": "code",
   "execution_count": 2,
   "metadata": {},
   "outputs": [],
   "source": [
    "import cv2 \n",
    "import numpy as np\n",
    "import os\n",
    "from matplotlib import pyplot as plt\n",
    "import time\n",
    "import mediapipe as mp"
   ]
  },
  {
   "cell_type": "code",
   "execution_count": 3,
   "metadata": {},
   "outputs": [],
   "source": [
    "mp_holistic= mp.solutions.holistic      #Detection model\n",
    "mp_drawing= mp.solutions.drawing_utils  #Drawing connections"
   ]
  },
  {
   "cell_type": "code",
   "execution_count": 4,
   "metadata": {},
   "outputs": [],
   "source": [
    "def mediapipe_detection(image, model):\n",
    "    image= cv2.cvtColor(image, cv2.COLOR_BGR2RGB)   #Color conversion\n",
    "    image.flags.writeable= False                    #Image no longer writeable\n",
    "    results= model.process(image)                   #Make prediction  \n",
    "    image.flags.writeable= True                     #Image now writeable\n",
    "    image= cv2.cvtColor(image, cv2.COLOR_RGB2BGR)   #Color conversion \n",
    "    return image, results"
   ]
  },
  {
   "cell_type": "code",
   "execution_count": 5,
   "metadata": {},
   "outputs": [],
   "source": [
    "def draw_landmarks(image, results):\n",
    "    mp_drawing.draw_landmarks(image, results.face_landmarks,mp_holistic.FACEMESH_CONTOURS)      #Draw face connections\n",
    "    mp_drawing.draw_landmarks(image, results.pose_landmarks,mp_holistic.POSE_CONNECTIONS)       #Draw pose connections\n",
    "    mp_drawing.draw_landmarks(image, results.left_hand_landmarks,mp_holistic.HAND_CONNECTIONS)  #Draw left hand Connections\n",
    "    mp_drawing.draw_landmarks(image, results.right_hand_landmarks,mp_holistic.HAND_CONNECTIONS) #Draw right hand Connections"
   ]
  },
  {
   "cell_type": "code",
   "execution_count": 6,
   "metadata": {},
   "outputs": [],
   "source": [
    "# cap = cv2.VideoCapture(0)\n",
    "\n",
    "# #Access Mediapipe model\n",
    "# with mp_holistic.Holistic(min_detection_confidence=0.5, min_tracking_confidence=0.5) as holistic:\n",
    "#     while cap.isOpened():\n",
    "        \n",
    "#         #read feed from cam(0)\n",
    "#         ret, frame= cap.read()\n",
    "        \n",
    "#         #make detection\n",
    "#         image, results = mediapipe_detection(frame, holistic)\n",
    "        \n",
    "#         #Draw connections on the frame\n",
    "#         draw_landmarks(image, results)\n",
    "        \n",
    "#         #Output connection to the screen\n",
    "#         cv2.imshow('OpenCV Feed', image)\n",
    "        \n",
    "#         #Exit Program with 'q'\n",
    "#         if cv2.waitKey(10) & 0xFF == ord('q'):\n",
    "#             break\n",
    "# cap.release()\n",
    "# cv2.destroyAllWindows()\n",
    "# cv2.waitKey(1)"
   ]
  },
  {
   "cell_type": "code",
   "execution_count": 7,
   "metadata": {},
   "outputs": [],
   "source": [
    "def extract_keypoints(results):\n",
    "    pose=np.array([[res.x,res.y,res.z,res.visibility] for res in results.pose_landmarks.landmark]).flatten() if results.pose_landmarks else np.zeros(33*4)\n",
    "    face=np.array([[res.x,res.y,res.z] for res in results.face_landmarks.landmark]).flatten() if results.face_landmarks else np.zeros(468*3)\n",
    "    lh=np.array([[res.x,res.y,res.z] for res in results.left_hand_landmarks.landmark]).flatten() if results.left_hand_landmarks else np.zeros(21*3)\n",
    "    rh=np.array([[res.x,res.y,res.z] for res in results.right_hand_landmarks.landmark]).flatten() if results.right_hand_landmarks else np.zeros(21*3)\n",
    "    return np.concatenate([pose,face,lh,rh])"
   ]
  },
  {
   "cell_type": "code",
   "execution_count": 8,
   "metadata": {},
   "outputs": [],
   "source": [
    "#Path for exported data, numpy arrays\n",
    "DATA_PATH= os.path.join('MP_DATA')\n",
    "\n",
    "#Actions to detect\n",
    "words = np.array(['hi','thanks','iloveyou', 'my', 'name'])\n",
    "alphabets= np.array(['a','b','c','d','e','f','g','h','i','j','k','l','m','n','o','p','q','r','s','t','u','v','w','x','y','z'])\n",
    "numbers = np.arange(0,9)\n",
    "\n",
    "actions=np.concatenate([words,alphabets,numbers])\n",
    "\n",
    "#Thirty videos worth of data\n",
    "no_sequences= 30\n",
    "\n",
    "#Video length in frames\n",
    "sequence_length= 30\n"
   ]
  },
  {
   "cell_type": "code",
   "execution_count": 9,
   "metadata": {},
   "outputs": [],
   "source": [
    "#Make folders for data collections\n",
    "for action in actions:\n",
    "    for sequence in range(no_sequences):\n",
    "        try:\n",
    "            os.makedirs(os.path.join(DATA_PATH,action,str(sequence)))\n",
    "        except:\n",
    "            pass"
   ]
  },
  {
   "cell_type": "code",
   "execution_count": 10,
   "metadata": {},
   "outputs": [
    {
     "name": "stderr",
     "output_type": "stream",
     "text": [
      "INFO: Created TensorFlow Lite XNNPACK delegate for CPU.\n"
     ]
    },
    {
     "data": {
      "text/plain": [
       "-1"
      ]
     },
     "execution_count": 10,
     "metadata": {},
     "output_type": "execute_result"
    }
   ],
   "source": [
    "cap = cv2.VideoCapture(0)\n",
    "\n",
    "#Access Mediapipe model\n",
    "with mp_holistic.Holistic(min_detection_confidence=0.5, min_tracking_confidence=0.5) as holistic:\n",
    "    \n",
    "    #Loop through actions\n",
    "    for action in actions:\n",
    "        #Loop through videos\n",
    "        for sequence in range(no_sequences):\n",
    "            #Loop through frames  \n",
    "            for frame_num in range(sequence_length):\n",
    "                 #read feed from cam(0)\n",
    "                 ret, frame= cap.read()\n",
    "                \n",
    "                 #make detection\n",
    "                 image, results = mediapipe_detection(frame, holistic)\n",
    "                \n",
    "                 #Draw connections on the frame\n",
    "                 draw_landmarks(image, results)\n",
    "                 \n",
    "                 #Apply wait logic:\n",
    "                 if frame_num== 0:\n",
    "                     cv2.putText(image, 'STARTING COLLECTION', (120, 200),\n",
    "                                 cv2.FONT_HERSHEY_SIMPLEX, 1, (132, 63, 195), 4, cv2.LINE_AA)\n",
    "                     cv2.putText(image, 'Collecting frames for {} Video Number{}'.format(action, sequence), (15, 50),\n",
    "                                 cv2.FONT_HERSHEY_SIMPLEX, 1, (130, 99, 0), 4, cv2.LINE_AA)\n",
    "                     cv2.waitKey(1000)\n",
    "                 else:\n",
    "                    cv2.putText(image, 'Collecting frames for {} Video Number{}'.format(action, sequence), (15, 50),\n",
    "                                 cv2.FONT_HERSHEY_SIMPLEX, 1, (130, 99, 0), 4, cv2.LINE_AA)\n",
    "                     \n",
    "                 #New Export keypoints\n",
    "                 keypoints= extract_keypoints(results)\n",
    "                 npy_path= os.path.join(DATA_PATH, action,str(sequence),str(frame_num))\n",
    "                 np.save(npy_path, keypoints)\n",
    "                \n",
    "                 #Output connection to the screen\n",
    "                 cv2.imshow('OpenCV Feed', image)\n",
    "                \n",
    "                 #Exit Program with 'q'\n",
    "                 if cv2.waitKey(10) & 0xFF == ord('q'):\n",
    "                     break \n",
    "                 if cv2.waitKey(10) & 0xFF == ord('p'):\n",
    "                     cv2.putText(image, 'PAUSE', (120, 200),\n",
    "                                 cv2.FONT_HERSHEY_SIMPLEX, 1, (132, 63, 195), 4, cv2.LINE_AA)\n",
    "                     cv2.waitKey(120000) \n",
    "        \n",
    "       \n",
    "cap.release()\n",
    "cv2.destroyAllWindows()\n",
    "cv2.waitKey(1)"
   ]
  }
 ],
 "metadata": {
  "interpreter": {
   "hash": "4371e3bce1ecb062f9862183bde684c3c973815703b1a0db73cb8a9e702b7e7f"
  },
  "kernelspec": {
   "display_name": "Python 3.9.12 ('base')",
   "language": "python",
   "name": "python3"
  },
  "language_info": {
   "codemirror_mode": {
    "name": "ipython",
    "version": 3
   },
   "file_extension": ".py",
   "mimetype": "text/x-python",
   "name": "python",
   "nbconvert_exporter": "python",
   "pygments_lexer": "ipython3",
   "version": "3.9.12"
  },
  "orig_nbformat": 4
 },
 "nbformat": 4,
 "nbformat_minor": 2
}
