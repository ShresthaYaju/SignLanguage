{
 "cells": [
  {
   "cell_type": "code",
   "execution_count": 1,
   "metadata": {},
   "outputs": [
    {
     "name": "stdout",
     "output_type": "stream",
     "text": [
      "Requirement already satisfied: opencv-python in /Users/yaju/miniforge3/envs/tensorflow/lib/python3.9/site-packages (4.6.0.66)\n",
      "Requirement already satisfied: mediapipe-silicon in /Users/yaju/miniforge3/envs/tensorflow/lib/python3.9/site-packages (0.8.10.1)\n",
      "Requirement already satisfied: sklearn in /Users/yaju/miniforge3/envs/tensorflow/lib/python3.9/site-packages (0.0)\n",
      "Requirement already satisfied: matplotlib in /Users/yaju/miniforge3/envs/tensorflow/lib/python3.9/site-packages (3.5.2)\n",
      "Requirement already satisfied: numpy>=1.21.2 in /Users/yaju/miniforge3/envs/tensorflow/lib/python3.9/site-packages (from opencv-python) (1.23.0)\n",
      "Requirement already satisfied: attrs>=19.1.0 in /Users/yaju/miniforge3/envs/tensorflow/lib/python3.9/site-packages (from mediapipe-silicon) (21.4.0)\n",
      "Requirement already satisfied: protobuf<4,>=3.11 in /Users/yaju/miniforge3/envs/tensorflow/lib/python3.9/site-packages (from mediapipe-silicon) (3.19.4)\n",
      "Requirement already satisfied: absl-py in /Users/yaju/miniforge3/envs/tensorflow/lib/python3.9/site-packages (from mediapipe-silicon) (0.10.0)\n",
      "Requirement already satisfied: opencv-contrib-python in /Users/yaju/miniforge3/envs/tensorflow/lib/python3.9/site-packages (from mediapipe-silicon) (4.6.0.66)\n",
      "Requirement already satisfied: scikit-learn in /Users/yaju/miniforge3/envs/tensorflow/lib/python3.9/site-packages (from sklearn) (1.1.1)\n",
      "Requirement already satisfied: python-dateutil>=2.7 in /Users/yaju/miniforge3/envs/tensorflow/lib/python3.9/site-packages (from matplotlib) (2.8.2)\n",
      "Requirement already satisfied: packaging>=20.0 in /Users/yaju/miniforge3/envs/tensorflow/lib/python3.9/site-packages (from matplotlib) (21.3)\n",
      "Requirement already satisfied: cycler>=0.10 in /Users/yaju/miniforge3/envs/tensorflow/lib/python3.9/site-packages (from matplotlib) (0.11.0)\n",
      "Requirement already satisfied: kiwisolver>=1.0.1 in /Users/yaju/miniforge3/envs/tensorflow/lib/python3.9/site-packages (from matplotlib) (1.4.3)\n",
      "Requirement already satisfied: fonttools>=4.22.0 in /Users/yaju/miniforge3/envs/tensorflow/lib/python3.9/site-packages (from matplotlib) (4.33.3)\n",
      "Requirement already satisfied: pillow>=6.2.0 in /Users/yaju/miniforge3/envs/tensorflow/lib/python3.9/site-packages (from matplotlib) (9.1.1)\n",
      "Requirement already satisfied: pyparsing>=2.2.1 in /Users/yaju/miniforge3/envs/tensorflow/lib/python3.9/site-packages (from matplotlib) (3.0.9)\n",
      "Requirement already satisfied: six>=1.5 in /Users/yaju/miniforge3/envs/tensorflow/lib/python3.9/site-packages (from python-dateutil>=2.7->matplotlib) (1.15.0)\n",
      "Requirement already satisfied: joblib>=1.0.0 in /Users/yaju/miniforge3/envs/tensorflow/lib/python3.9/site-packages (from scikit-learn->sklearn) (1.1.0)\n",
      "Requirement already satisfied: scipy>=1.3.2 in /Users/yaju/miniforge3/envs/tensorflow/lib/python3.9/site-packages (from scikit-learn->sklearn) (1.8.1)\n",
      "Requirement already satisfied: threadpoolctl>=2.0.0 in /Users/yaju/miniforge3/envs/tensorflow/lib/python3.9/site-packages (from scikit-learn->sklearn) (3.1.0)\n"
     ]
    }
   ],
   "source": [
    "# !pip install opencv-python mediapipe-silicon sklearn matplotlib\n"
   ]
  },
  {
   "cell_type": "code",
   "execution_count": 2,
   "metadata": {},
   "outputs": [
    {
     "name": "stderr",
     "output_type": "stream",
     "text": [
      "objc[55915]: Class CaptureDelegate is implemented in both /Users/yaju/miniforge3/envs/tensorflow/lib/python3.9/site-packages/cv2/cv2.abi3.so (0x11f50e538) and /Users/yaju/miniforge3/envs/tensorflow/lib/python3.9/site-packages/mediapipe/.dylibs/libopencv_videoio.3.4.16.dylib (0x11d4dc860). One of the two will be used. Which one is undefined.\n",
      "objc[55915]: Class CVWindow is implemented in both /Users/yaju/miniforge3/envs/tensorflow/lib/python3.9/site-packages/cv2/cv2.abi3.so (0x11f50e588) and /Users/yaju/miniforge3/envs/tensorflow/lib/python3.9/site-packages/mediapipe/.dylibs/libopencv_highgui.3.4.16.dylib (0x11c790a68). One of the two will be used. Which one is undefined.\n",
      "objc[55915]: Class CVView is implemented in both /Users/yaju/miniforge3/envs/tensorflow/lib/python3.9/site-packages/cv2/cv2.abi3.so (0x11f50e5b0) and /Users/yaju/miniforge3/envs/tensorflow/lib/python3.9/site-packages/mediapipe/.dylibs/libopencv_highgui.3.4.16.dylib (0x11c790a90). One of the two will be used. Which one is undefined.\n",
      "objc[55915]: Class CVSlider is implemented in both /Users/yaju/miniforge3/envs/tensorflow/lib/python3.9/site-packages/cv2/cv2.abi3.so (0x11f50e5d8) and /Users/yaju/miniforge3/envs/tensorflow/lib/python3.9/site-packages/mediapipe/.dylibs/libopencv_highgui.3.4.16.dylib (0x11c790ab8). One of the two will be used. Which one is undefined.\n"
     ]
    }
   ],
   "source": [
    "import cv2 \n",
    "import numpy as np\n",
    "import os\n",
    "from matplotlib import pyplot as plt\n",
    "import time\n",
    "import mediapipe as mp"
   ]
  },
  {
   "cell_type": "code",
   "execution_count": 3,
   "metadata": {},
   "outputs": [],
   "source": [
    "mp_holistic= mp.solutions.holistic      #Detection model\n",
    "mp_drawing= mp.solutions.drawing_utils  #Drawing connections"
   ]
  },
  {
   "cell_type": "code",
   "execution_count": 4,
   "metadata": {},
   "outputs": [],
   "source": [
    "def mediapipe_detection(image, model):\n",
    "    image= cv2.cvtColor(image, cv2.COLOR_BGR2RGB)   #Color conversion\n",
    "    image.flags.writeable= False                    #Image no longer writeable\n",
    "    results= model.process(image)                   #Make prediction  \n",
    "    image.flags.writeable= True                     #Image now writeable\n",
    "    image= cv2.cvtColor(image, cv2.COLOR_RGB2BGR)   #Color conversion \n",
    "    return image, results"
   ]
  },
  {
   "cell_type": "code",
   "execution_count": 5,
   "metadata": {},
   "outputs": [],
   "source": [
    "def draw_landmarks(image, results):\n",
    "    mp_drawing.draw_landmarks(image, results.face_landmarks,mp_holistic.FACEMESH_CONTOURS)      #Draw face connections\n",
    "    mp_drawing.draw_landmarks(image, results.pose_landmarks,mp_holistic.POSE_CONNECTIONS)       #Draw pose connections\n",
    "    mp_drawing.draw_landmarks(image, results.left_hand_landmarks,mp_holistic.HAND_CONNECTIONS)  #Draw left hand Connections\n",
    "    mp_drawing.draw_landmarks(image, results.right_hand_landmarks,mp_holistic.HAND_CONNECTIONS) #Draw right hand Connections"
   ]
  },
  {
   "cell_type": "code",
   "execution_count": 14,
   "metadata": {},
   "outputs": [
    {
     "name": "stderr",
     "output_type": "stream",
     "text": [
      "INFO: Created TensorFlow Lite XNNPACK delegate for CPU.\n"
     ]
    },
    {
     "data": {
      "text/plain": [
       "-1"
      ]
     },
     "execution_count": 14,
     "metadata": {},
     "output_type": "execute_result"
    }
   ],
   "source": [
    "# cap = cv2.VideoCapture(0)\n",
    "\n",
    "# #Access Mediapipe model\n",
    "# with mp_holistic.Holistic(min_detection_confidence=0.5, min_tracking_confidence=0.5) as holistic:\n",
    "#     while cap.isOpened():\n",
    "        \n",
    "#         #read feed from cam(0)\n",
    "#         ret, frame= cap.read()\n",
    "        \n",
    "#         #make detection\n",
    "#         image, results = mediapipe_detection(frame, holistic)\n",
    "        \n",
    "#         #Draw connections on the frame\n",
    "#         draw_landmarks(image, results)\n",
    "        \n",
    "#         #Output connection to the screen\n",
    "#         cv2.imshow('OpenCV Feed', image)\n",
    "        \n",
    "#         #Exit Program with 'q'\n",
    "#         if cv2.waitKey(10) & 0xFF == ord('q'):\n",
    "#             break\n",
    "# cap.release()\n",
    "# cv2.destroyAllWindows()\n",
    "# cv2.waitKey(1)"
   ]
  },
  {
   "cell_type": "code",
   "execution_count": 6,
   "metadata": {},
   "outputs": [],
   "source": [
    "def extract_keypoints(results):\n",
    "    pose=np.array([[res.x,res.y,res.z,res.visibility] for res in results.pose_landmarks.landmark]).flatten() if results.pose_landmarks else np.zeros(33*4)\n",
    "    face=np.array([[res.x,res.y,res.z] for res in results.face_landmarks.landmark]).flatten() if results.face_landmarks else np.zeros(468*3)\n",
    "    lh=np.array([[res.x,res.y,res.z] for res in results.left_hand_landmarks.landmark]).flatten() if results.left_hand_landmarks else np.zeros(21*3)\n",
    "    rh=np.array([[res.x,res.y,res.z] for res in results.right_hand_landmarks.landmark]).flatten() if results.right_hand_landmarks else np.zeros(21*3)\n",
    "    return np.concatenate([pose,face,lh,rh])"
   ]
  },
  {
   "cell_type": "code",
   "execution_count": 7,
   "metadata": {},
   "outputs": [],
   "source": [
    "#Path for exported data, numpy arrays\n",
    "DATA_PATH= os.path.join('MP_DATA')\n",
    "\n",
    "#Actions to detect\n",
    "words = np.array(['hi','thanks','iloveyou', 'my', 'name', 'namaste'])\n",
    "alphabets= np.array(['a','b','c','d','e','f','g','h','i','j','k','l','m','n','o','p','q','r','s','t','u','v','w','x','y','z'])\n",
    "numbers = np.arange(1,10)\n",
    "\n",
    "actions=np.concatenate([words,alphabets,numbers])\n",
    "\n",
    "\n",
    "#Thirty videos worth of data\n",
    "no_sequences= 30\n",
    "\n",
    "#Video length in frames\n",
    "sequence_length= 30\n"
   ]
  },
  {
   "cell_type": "code",
   "execution_count": 8,
   "metadata": {},
   "outputs": [],
   "source": [
    "#Make folders for data collections\n",
    "for action in actions:\n",
    "    for sequence in range(no_sequences):\n",
    "        try:\n",
    "            os.makedirs(os.path.join(DATA_PATH,action,str(sequence)))\n",
    "        except:\n",
    "            pass"
   ]
  },
  {
   "cell_type": "code",
   "execution_count": 11,
   "metadata": {},
   "outputs": [
    {
     "ename": "KeyboardInterrupt",
     "evalue": "",
     "output_type": "error",
     "traceback": [
      "\u001b[0;31m---------------------------------------------------------------------------\u001b[0m",
      "\u001b[0;31mKeyboardInterrupt\u001b[0m                         Traceback (most recent call last)",
      "\u001b[1;32m/Users/yaju/Desktop/SignLanguage/SignLanguage/code.ipynb Cell 4'\u001b[0m in \u001b[0;36m<cell line: 1>\u001b[0;34m()\u001b[0m\n\u001b[0;32m----> <a href='vscode-notebook-cell:/Users/yaju/Desktop/SignLanguage/SignLanguage/code.ipynb#ch0000004?line=0'>1</a>\u001b[0m cap \u001b[39m=\u001b[39m cv2\u001b[39m.\u001b[39;49mVideoCapture(\u001b[39m0\u001b[39;49m)\n\u001b[1;32m      <a href='vscode-notebook-cell:/Users/yaju/Desktop/SignLanguage/SignLanguage/code.ipynb#ch0000004?line=2'>3</a>\u001b[0m \u001b[39m#Access Mediapipe model\u001b[39;00m\n\u001b[1;32m      <a href='vscode-notebook-cell:/Users/yaju/Desktop/SignLanguage/SignLanguage/code.ipynb#ch0000004?line=3'>4</a>\u001b[0m \u001b[39mwith\u001b[39;00m mp_holistic\u001b[39m.\u001b[39mHolistic(min_detection_confidence\u001b[39m=\u001b[39m\u001b[39m0.5\u001b[39m, min_tracking_confidence\u001b[39m=\u001b[39m\u001b[39m0.5\u001b[39m) \u001b[39mas\u001b[39;00m holistic:\n\u001b[1;32m      <a href='vscode-notebook-cell:/Users/yaju/Desktop/SignLanguage/SignLanguage/code.ipynb#ch0000004?line=4'>5</a>\u001b[0m     \n\u001b[1;32m      <a href='vscode-notebook-cell:/Users/yaju/Desktop/SignLanguage/SignLanguage/code.ipynb#ch0000004?line=5'>6</a>\u001b[0m     \u001b[39m#Loop through actions\u001b[39;00m\n",
      "\u001b[0;31mKeyboardInterrupt\u001b[0m: "
     ]
    }
   ],
   "source": [
    "# cap = cv2.VideoCapture(0)\n",
    "\n",
    "# #Access Mediapipe model\n",
    "# with mp_holistic.Holistic(min_detection_confidence=0.5, min_tracking_confidence=0.5) as holistic:\n",
    "    \n",
    "#     #Loop through actions\n",
    "#     for action in actions:\n",
    "#         #Loop through videos\n",
    "#         for sequence in range(no_sequences):\n",
    "#             #Loop through frames  \n",
    "#             for frame_num in range(sequence_length):\n",
    "#                  #read feed from cam(0)\n",
    "#                  ret, frame= cap.read()\n",
    "                \n",
    "#                  #make detection\n",
    "#                  image, results = mediapipe_detection(frame, holistic)\n",
    "                \n",
    "#                  #Draw connections on the frame\n",
    "#                  draw_landmarks(image, results)\n",
    "                 \n",
    "#                  #Apply wait logic:\n",
    "#                  if frame_num== 0:\n",
    "#                      cv2.putText(image, 'STARTING COLLECTION', (120, 200),\n",
    "#                                  cv2.FONT_HERSHEY_SIMPLEX, 1, (132, 63, 195), 4, cv2.LINE_AA)\n",
    "#                      cv2.putText(image, 'Collecting frames for {} Video Number{}'.format(action, sequence), (15, 50),\n",
    "#                                  cv2.FONT_HERSHEY_SIMPLEX, 1, (130, 99, 0), 4, cv2.LINE_AA)\n",
    "#                      cv2.waitKey(1000)\n",
    "#                  else:\n",
    "#                     cv2.putText(image, 'Collecting frames for {} Video Number{}'.format(action, sequence), (15, 50),\n",
    "#                                  cv2.FONT_HERSHEY_SIMPLEX, 1, (130, 99, 0), 4, cv2.LINE_AA)\n",
    "                     \n",
    "#                  #New Export keypoints\n",
    "#                  keypoints= extract_keypoints(results)\n",
    "#                  npy_path= os.path.join(DATA_PATH, action,str(sequence),str(frame_num))\n",
    "#                  np.save(npy_path, keypoints)\n",
    "                \n",
    "#                  #Output connection to the screen\n",
    "#                  cv2.imshow('OpenCV Feed', image)\n",
    "                \n",
    "#                  #Exit Program with 'q'\n",
    "#                  if cv2.waitKey(10) & 0xFF == ord('q'):\n",
    "#                      break \n",
    "#                  if cv2.waitKey(10) & 0xFF == ord('p'):\n",
    "#                      cv2.putText(image, 'PAUSE', (120, 200),\n",
    "#                                  cv2.FONT_HERSHEY_SIMPLEX, 1, (132, 63, 195), 4, cv2.LINE_AA)\n",
    "#                      cv2.waitKey(120000) \n",
    "        \n",
    "       \n",
    "# cap.release()\n",
    "# cv2.destroyAllWindows()\n",
    "# cv2.waitKey(1)"
   ]
  },
  {
   "cell_type": "code",
   "execution_count": 9,
   "metadata": {},
   "outputs": [
    {
     "name": "stdout",
     "output_type": "stream",
     "text": [
      "Init Plugin\n",
      "Init Graph Optimizer\n",
      "Init Kernel\n"
     ]
    }
   ],
   "source": [
    "from sklearn.model_selection import train_test_split\n",
    "from tensorflow.keras.utils import to_categorical       #if on silicon mac make a miniforge environment for tensorflow"
   ]
  },
  {
   "cell_type": "code",
   "execution_count": 11,
   "metadata": {},
   "outputs": [],
   "source": [
    "sequences,labels=[], []\n",
    "for action in actions:\n",
    "    for sequence in range(no_sequences):\n",
    "        window=[]\n",
    "        for frame_num in range(sequence_length):\n",
    "            res=np.load(os.path.join(DATA_PATH,action,str(sequence),\"{}.npy\".format(frame_num)))\n",
    "            window.append(res)\n",
    "        sequences.append(window)\n",
    "        labels.append(label_map[action])\n"
   ]
  },
  {
   "cell_type": "code",
   "execution_count": 13,
   "metadata": {},
   "outputs": [
    {
     "data": {
      "text/plain": [
       "(1230, 30, 1662)"
      ]
     },
     "execution_count": 13,
     "metadata": {},
     "output_type": "execute_result"
    }
   ],
   "source": [
    "np.array(sequences).shape\n"
   ]
  }
 ],
 "metadata": {
  "kernelspec": {
   "display_name": "Python 3.9.13 ('tensorflow')",
   "language": "python",
   "name": "python3"
  },
  "language_info": {
   "codemirror_mode": {
    "name": "ipython",
    "version": 3
   },
   "file_extension": ".py",
   "mimetype": "text/x-python",
   "name": "python",
   "nbconvert_exporter": "python",
   "pygments_lexer": "ipython3",
   "version": "3.9.13"
  },
  "vscode": {
   "interpreter": {
    "hash": "72e0bc4f8f74acd140e1561b523364b8c11ead093308f8a25dba47019a5307b4"
   }
  }
 },
 "nbformat": 4,
 "nbformat_minor": 2
}
