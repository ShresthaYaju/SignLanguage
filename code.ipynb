{
 "cells": [
  {
   "cell_type": "code",
   "execution_count": null,
   "metadata": {},
   "outputs": [],
   "source": [
    "!pip install opencv-python mediapipe scikit-learn matplotlib numpy \n"
   ]
  },
  {
   "cell_type": "code",
   "execution_count": null,
   "metadata": {},
   "outputs": [],
   "source": [
    "!pip install tensorflow "
   ]
  },
  {
   "cell_type": "code",
   "execution_count": null,
   "metadata": {},
   "outputs": [],
   "source": [
    "import cv2\n",
    "import numpy as np\n",
    "import os\n",
    "# from matplotlib import pyplot as plt\n",
    "import mediapipe as mp\n",
    "import time\n"
   ]
  },
  {
   "cell_type": "code",
   "execution_count": null,
   "metadata": {},
   "outputs": [],
   "source": [
    "mp_holistic= mp.solutions.holistic      #Detection model\n",
    "mp_drawing= mp.solutions.drawing_utils  #Drawing connections"
   ]
  },
  {
   "cell_type": "code",
   "execution_count": null,
   "metadata": {},
   "outputs": [],
   "source": [
    "def mediapipe_detection(image, model):\n",
    "    image= cv2.cvtColor(image, cv2.COLOR_BGR2RGB)   #Color conversion\n",
    "    image.flags.writeable= False                    #Image no longer writeable\n",
    "    results= model.process(image)                   #Make prediction  \n",
    "    image.flags.writeable= True                     #Image now writeable\n",
    "    image= cv2.cvtColor(image, cv2.COLOR_RGB2BGR)   #Color conversion \n",
    "    return image, results"
   ]
  },
  {
   "cell_type": "code",
   "execution_count": null,
   "metadata": {},
   "outputs": [],
   "source": [
    "def draw_landmarks(image, results):\n",
    "    mp_drawing.draw_landmarks(image, results.face_landmarks,mp_holistic.FACEMESH_CONTOURS)      #Draw face connections\n",
    "    mp_drawing.draw_landmarks(image, results.pose_landmarks,mp_holistic.POSE_CONNECTIONS)       #Draw pose connections\n",
    "    mp_drawing.draw_landmarks(image, results.left_hand_landmarks,mp_holistic.HAND_CONNECTIONS)  #Draw left hand Connections\n",
    "    mp_drawing.draw_landmarks(image, results.right_hand_landmarks,mp_holistic.HAND_CONNECTIONS) #Draw right hand Connections"
   ]
  },
  {
   "cell_type": "code",
   "execution_count": null,
   "metadata": {},
   "outputs": [],
   "source": [
    "# cap = cv2.VideoCapture(0)\n",
    "\n",
    "# #Access Mediapipe model\n",
    "# with mp_holistic.Holistic(min_detection_confidence=0.5, min_tracking_confidence=0.5) as holistic:\n",
    "#     while cap.isOpened():\n",
    "        \n",
    "#         #read feed from cam(0)\n",
    "#         ret, frame= cap.read()\n",
    "        \n",
    "#         #make detection\n",
    "#         image, results = mediapipe_detection(frame, holistic)\n",
    "        \n",
    "#         #Draw connections on the frame\n",
    "#         draw_landmarks(image, results)\n",
    "        \n",
    "#         #Output connection to the screen\n",
    "#         cv2.imshow('OpenCV Feed', image)\n",
    "        \n",
    "#         #Exit Program with 'q'\n",
    "#         if cv2.waitKey(10) & 0xFF == ord('q'):\n",
    "#             break\n",
    "# cap.release()\n",
    "# cv2.destroyAllWindows()\n",
    "# cv2.waitKey(1)"
   ]
  },
  {
   "cell_type": "code",
   "execution_count": null,
   "metadata": {},
   "outputs": [],
   "source": [
    "def extract_keypoints(results):\n",
    "    pose=np.array([[res.x,res.y,res.z,res.visibility] for res in results.pose_landmarks.landmark]).flatten() if results.pose_landmarks else np.zeros(33*4)\n",
    "    face=np.array([[res.x,res.y,res.z] for res in results.face_landmarks.landmark]).flatten() if results.face_landmarks else np.zeros(468*3)\n",
    "    lh=np.array([[res.x,res.y,res.z] for res in results.left_hand_landmarks.landmark]).flatten() if results.left_hand_landmarks else np.zeros(21*3)\n",
    "    rh=np.array([[res.x,res.y,res.z] for res in results.right_hand_landmarks.landmark]).flatten() if results.right_hand_landmarks else np.zeros(21*3)\n",
    "    return np.concatenate([pose,face,lh,rh])"
   ]
  },
  {
   "cell_type": "code",
   "execution_count": null,
   "metadata": {},
   "outputs": [],
   "source": [
    "#Path for exported data, numpy arrays\n",
    "DATA_PATH= os.path.join('MP_DATA')\n",
    "\n",
    "#Actions to detect\n",
    "words = np.array(['hi','thanks','iloveyou', 'my', 'name', 'namaste','y','a','j','u'])\n",
    "# alphabets= np.array(['a','b','c','d','e','f','g','h','i','j','k','l','m','n','o','p','q','r','s','t','u','v','w','x','y','z'])\n",
    "# numbers = np.arange(1,11)\n",
    "\n",
    "# actions=np.concatenate([words,alphabets,numbers])\n",
    "actions=words\n",
    "\n",
    "\n",
    "#Thirty videos worth of data\n",
    "no_sequences= 30\n",
    "\n",
    "#Video length in frames\n",
    "sequence_length= 30\n"
   ]
  },
  {
   "cell_type": "code",
   "execution_count": null,
   "metadata": {},
   "outputs": [],
   "source": [
    "#Make folders for data collections\n",
    "for action in actions:\n",
    "    for sequence in range(no_sequences):\n",
    "        try:\n",
    "            os.makedirs(os.path.join(DATA_PATH,action,str(sequence)))\n",
    "        except:\n",
    "            pass"
   ]
  },
  {
   "cell_type": "code",
   "execution_count": null,
   "metadata": {},
   "outputs": [],
   "source": [
    "# cap = cv2.VideoCapture(0)\n",
    "\n",
    "# #Access Mediapipe model\n",
    "# with mp_holistic.Holistic(min_detection_confidence=0.5, min_tracking_confidence=0.5) as holistic:\n",
    "    \n",
    "#     #Loop through actions\n",
    "#     for action in actions:\n",
    "#         #Loop through videos\n",
    "#         for sequence in range(no_sequences):\n",
    "#             #Loop through frames  \n",
    "#             for frame_num in range(sequence_length):\n",
    "#                  #read feed from cam(0)\n",
    "#                  ret, frame= cap.read()\n",
    "                \n",
    "#                  #make detection\n",
    "#                  image, results = mediapipe_detection(frame, holistic)\n",
    "                \n",
    "#                  #Draw connections on the frame\n",
    "#                  draw_landmarks(image, results)\n",
    "                 \n",
    "#                  #Apply wait logic:\n",
    "#                  if frame_num== 0:\n",
    "#                      cv2.putText(image, 'STARTING COLLECTION', (120, 200),\n",
    "#                                  cv2.FONT_HERSHEY_SIMPLEX, 1, (132, 63, 195), 4, cv2.LINE_AA)\n",
    "#                      cv2.putText(image, 'Collecting frames for {} Video Number{}'.format(action, sequence), (15, 50),\n",
    "#                                  cv2.FONT_HERSHEY_SIMPLEX, 1, (130, 99, 0), 4, cv2.LINE_AA)\n",
    "#                      cv2.waitKey(1000)\n",
    "#                  else:\n",
    "#                     cv2.putText(image, 'Collecting frames for {} Video Number{}'.format(action, sequence), (15, 50),\n",
    "#                                  cv2.FONT_HERSHEY_SIMPLEX, 1, (130, 99, 0), 4, cv2.LINE_AA)\n",
    "                     \n",
    "#                  #New Export keypoints\n",
    "#                  keypoints= extract_keypoints(results)\n",
    "#                  npy_path= os.path.join(DATA_PATH, action,str(sequence),str(frame_num))\n",
    "#                  np.save(npy_path, keypoints)\n",
    "                \n",
    "#                  #Output connection to the screen\n",
    "#                  cv2.imshow('OpenCV Feed', image)\n",
    "                \n",
    "#                  #Exit Program with 'q'\n",
    "#                  if cv2.waitKey(10) & 0xFF == ord('q'):\n",
    "#                      break \n",
    "#                  if cv2.waitKey(10) & 0xFF == ord('p'):\n",
    "#                      cv2.putText(image, 'PAUSE', (120, 200),\n",
    "#                                  cv2.FONT_HERSHEY_SIMPLEX, 1, (132, 63, 195), 4, cv2.LINE_AA)\n",
    "#                      cv2.waitKey(120000) \n",
    "        \n",
    "       \n",
    "# cap.release()\n",
    "# cv2.destroyAllWindows()\n",
    "# cv2.waitKey(1)"
   ]
  },
  {
   "cell_type": "code",
   "execution_count": null,
   "metadata": {},
   "outputs": [],
   "source": [
    "from sklearn.model_selection import train_test_split\n",
    "from tensorflow.keras.utils import to_categorical       #if on silicon mac make a miniforge environment for tensorflow\n",
    "\n",
    "label_map={label:num for num,label in enumerate(actions)}"
   ]
  },
  {
   "cell_type": "code",
   "execution_count": null,
   "metadata": {},
   "outputs": [],
   "source": [
    "sequences,labels=[], []\n",
    "for action in actions:\n",
    "    for sequence in range(no_sequences):\n",
    "        window=[]\n",
    "        for frame_num in range(sequence_length):\n",
    "            res=np.load(os.path.join(DATA_PATH,action,str(sequence),\"{}.npy\".format(frame_num)))\n",
    "            window.append(res)\n",
    "        sequences.append(window)\n",
    "        labels.append(label_map[action])     "
   ]
  },
  {
   "cell_type": "code",
   "execution_count": null,
   "metadata": {},
   "outputs": [],
   "source": [
    "X= np.array(sequences)\n",
    "y= to_categorical(labels).astype(int)"
   ]
  },
  {
   "cell_type": "code",
   "execution_count": null,
   "metadata": {},
   "outputs": [],
   "source": [
    "X_train,X_test, y_train, y_test=train_test_split(X,y, test_size=0.05)"
   ]
  },
  {
   "cell_type": "code",
   "execution_count": null,
   "metadata": {},
   "outputs": [],
   "source": [
    "from tensorflow.keras.models import Sequential\n",
    "from tensorflow.keras.layers import LSTM, Dense\n",
    "from tensorflow.keras.callbacks import TensorBoard"
   ]
  },
  {
   "cell_type": "code",
   "execution_count": null,
   "metadata": {},
   "outputs": [],
   "source": [
    "log_dir = os.path.join('Logs')\n",
    "tb_callback=TensorBoard(log_dir=log_dir)\n"
   ]
  },
  {
   "cell_type": "code",
   "execution_count": null,
   "metadata": {},
   "outputs": [],
   "source": [
    "model =Sequential()\n",
    "model.add(LSTM(64, return_sequences=True, activation='relu', input_shape=(30,1662)))\n",
    "model.add(LSTM(128,return_sequences=True, activation='relu'))\n",
    "model.add(LSTM(64, return_sequences=False, activation='relu'))\n",
    "model.add(Dense(64, activation='relu'))\n",
    "model.add(Dense(32, activation='relu'))\n",
    "model.add(Dense(actions.shape[0], activation='softmax'))"
   ]
  },
  {
   "cell_type": "code",
   "execution_count": null,
   "metadata": {},
   "outputs": [],
   "source": [
    "model.compile(optimizer='Adam', loss='categorical_crossentropy', metrics=['categorical_accuracy'])"
   ]
  },
  {
   "cell_type": "code",
   "execution_count": null,
   "metadata": {},
   "outputs": [],
   "source": [
    "model.fit(X_train,y_train, epochs=250, callbacks=[tb_callback])"
   ]
  },
  {
   "cell_type": "code",
   "execution_count": null,
   "metadata": {},
   "outputs": [],
   "source": [
    "model.summary()"
   ]
  },
  {
   "cell_type": "code",
   "execution_count": null,
   "metadata": {},
   "outputs": [],
   "source": [
    "res=model.predict(X_test)\n",
    "actions[np.argmax(res[2])]"
   ]
  },
  {
   "cell_type": "code",
   "execution_count": null,
   "metadata": {},
   "outputs": [],
   "source": [
    "actions[np.argmax(y_test[2])]"
   ]
  },
  {
   "cell_type": "code",
   "execution_count": null,
   "metadata": {},
   "outputs": [],
   "source": [
    "sequence=[]\n",
    "sentence=[]\n",
    "threshold=0.4\n",
    "\n",
    "cap = cv2.VideoCapture(0)\n",
    "\n",
    "#Access Mediapipe model\n",
    "with mp_holistic.Holistic(min_detection_confidence=0.8, min_tracking_confidence=0.8) as holistic:\n",
    "    while cap.isOpened():\n",
    "        \n",
    "        #read feed from cam(0)\n",
    "        ret, frame= cap.read()\n",
    "        \n",
    "        #make detection\n",
    "        image, results = mediapipe_detection(frame, holistic)\n",
    "        \n",
    "        #Draw connections on the frame\n",
    "        draw_landmarks(image, results)\n",
    "        \n",
    "        #1.prediction Logic\n",
    "        keypoints= extract_keypoints(results)\n",
    "        sequence.append(keypoints)\n",
    "        sequence= sequence[-30:]\n",
    "        \n",
    "        if len(sequence)== 30:\n",
    "            res= model.predict(np.expand_dims(sequence, axis=0))[0]\n",
    "            print(actions[np.argmax(res)])\n",
    "        \n",
    "        #Output connection to the screen\n",
    "        cv2.imshow('OpenCV Feed', image)\n",
    "        \n",
    "        #Exit Program with 'q'\n",
    "        if cv2.waitKey(10) & 0xFF == ord('q'):\n",
    "            break\n",
    "cap.release()\n",
    "cv2.destroyAllWindows()\n",
    "cv2.waitKey(1)"
   ]
  }
 ],
 "metadata": {
  "kernelspec": {
   "display_name": "Python 3.9.13",
   "language": "python",
   "name": "python3"
  },
  "language_info": {
   "codemirror_mode": {
    "name": "ipython",
    "version": 3
   },
   "file_extension": ".py",
   "mimetype": "text/x-python",
   "name": "python",
   "nbconvert_exporter": "python",
   "pygments_lexer": "ipython3",
   "version": "3.11.3"
  },
  "vscode": {
   "interpreter": {
    "hash": "72e0bc4f8f74acd140e1561b523364b8c11ead093308f8a25dba47019a5307b4"
   }
  }
 },
 "nbformat": 4,
 "nbformat_minor": 2
}
